{
  "nbformat": 4,
  "nbformat_minor": 0,
  "metadata": {
    "colab": {
      "provenance": [],
      "gpuType": "T4",
      "authorship_tag": "ABX9TyMXcNzRbGn5hZD4zuZOW76V",
      "include_colab_link": true
    },
    "kernelspec": {
      "name": "python3",
      "display_name": "Python 3"
    },
    "language_info": {
      "name": "python"
    },
    "accelerator": "GPU"
  },
  "cells": [
    {
      "cell_type": "markdown",
      "metadata": {
        "id": "view-in-github",
        "colab_type": "text"
      },
      "source": [
        "<a href=\"https://colab.research.google.com/github/IvannikovG/torch_refreshing/blob/main/putting_together.ipynb\" target=\"_parent\"><img src=\"https://colab.research.google.com/assets/colab-badge.svg\" alt=\"Open In Colab\"/></a>"
      ]
    },
    {
      "cell_type": "code",
      "execution_count": 1,
      "metadata": {
        "colab": {
          "base_uri": "https://localhost:8080/",
          "height": 533
        },
        "id": "LqrOYRNy5clW",
        "outputId": "91237dbb-47ed-4395-ebf3-6193cb3c6893"
      },
      "outputs": [
        {
          "output_type": "display_data",
          "data": {
            "text/plain": [
              "<Figure size 1000x700 with 1 Axes>"
            ],
            "image/png": "[encoded data removed]"
          },
          "metadata": {}
        }
      ],
      "source": [
        "import torch\n",
        "from torch import nn\n",
        "import matplotlib.pyplot as plt\n",
        "\n",
        "weight = 0.7\n",
        "bias = 0.3\n",
        "start = 0\n",
        "end = 1\n",
        "step = 0.02\n",
        "\n",
        "X = torch.arange(start, end, step).unsqueeze(dim=1)\n",
        "y = X * weight + bias\n",
        "\n",
        "sample_percentage = 0.8\n",
        "train_split = int(sample_percentage * len(X))\n",
        "X_train, y_train = X[:train_split], y[:train_split]\n",
        "X_test, y_test = X[train_split:], y[train_split:]\n",
        "\n",
        "def plot_predictions(train_data=X_train, train_labels=y_train,\n",
        "                     test_data=X_test, test_labels=y_test,\n",
        "                     predictions=None):\n",
        "  '''Plots training data, test data and compares predictions'''\n",
        "\n",
        "  plt.figure(figsize=(10, 7))\n",
        "\n",
        "  # Plot training data is in blue\n",
        "  plt.scatter(train_data, train_labels, c='b', s=4, label='Training data')\n",
        "  # Plot test data in green\n",
        "\n",
        "  plt.scatter(test_data, test_labels, c='g', s=4, label='Testing data')\n",
        "  if predictions is not None:\n",
        "    plt.scatter(test_data, predictions, c='r', s=3, label='Predictions')\n",
        "\n",
        "  plt.legend(prop={\"size\": 14,});\n",
        "\n",
        "\n",
        "plot_predictions(X_train, y_train, X_test, y_test)"
      ]
    },
    {
      "cell_type": "markdown",
      "source": [],
      "metadata": {
        "id": "AhtRiMF_6SU9"
      }
    },
    {
      "cell_type": "code",
      "source": [
        "class LinearRegressionModelV2(nn.Module):\n",
        "  def __init__(self):\n",
        "    super().__init__()\n",
        "    self.linear_layer = nn.Linear(in_features=1, out_features=1)\n",
        "\n",
        "  def forward(self, x: torch.Tensor) -> torch.Tensor:\n",
        "    return self.linear_layer(x)\n",
        "\n",
        "torch.manual_seed(42)\n",
        "model_1 = LinearRegressionModelV2()\n",
        "model_1.state_dict()\n",
        ""
      ],
      "metadata": {
        "colab": {
          "base_uri": "https://localhost:8080/"
        },
        "id": "TzcI7lcc6C8e",
        "outputId": "8926761b-bd8d-459d-bd78-38db38fb3321"
      },
      "execution_count": 2,
      "outputs": [
        {
          "output_type": "execute_result",
          "data": {
            "text/plain": [
              "OrderedDict([('linear_layer.weight', tensor([[0.7645]])),\n",
              "             ('linear_layer.bias', tensor([0.8300]))])"
            ]
          },
          "metadata": {},
          "execution_count": 2
        }
      ]
    },
    {
      "cell_type": "code",
      "source": [
        "device = next(model_1.parameters()).device\n",
        "device"
      ],
      "metadata": {
        "colab": {
          "base_uri": "https://localhost:8080/"
        },
        "id": "oqITEuWx87lF",
        "outputId": "59ea69c2-c853-440e-cfe7-22596d9a1e4e"
      },
      "execution_count": 3,
      "outputs": [
        {
          "output_type": "execute_result",
          "data": {
            "text/plain": [
              "device(type='cpu')"
            ]
          },
          "metadata": {},
          "execution_count": 3
        }
      ]
    },
    {
      "cell_type": "code",
      "source": [
        "model_1.to(device)"
      ],
      "metadata": {
        "colab": {
          "base_uri": "https://localhost:8080/"
        },
        "id": "zbbv-vZV9qv2",
        "outputId": "f9f6881a-ef83-4c13-b5cc-e4eb2295b6f0"
      },
      "execution_count": 4,
      "outputs": [
        {
          "output_type": "execute_result",
          "data": {
            "text/plain": [
              "LinearRegressionModelV2(\n",
              "  (linear_layer): Linear(in_features=1, out_features=1, bias=True)\n",
              ")"
            ]
          },
          "metadata": {},
          "execution_count": 4
        }
      ]
    },
    {
      "cell_type": "code",
      "source": [
        "loss_fn = nn.L1Loss()\n",
        "\n",
        "optimizer = torch.optim.SGD(params=model_1.parameters(),\n",
        "                            lr=0.001)"
      ],
      "metadata": {
        "id": "KxXaFiiL-kYK"
      },
      "execution_count": 13,
      "outputs": []
    },
    {
      "cell_type": "code",
      "source": [
        "X_train[:5]"
      ],
      "metadata": {
        "colab": {
          "base_uri": "https://localhost:8080/"
        },
        "id": "F9IYOs-iBZUO",
        "outputId": "99b998c1-c33c-4516-ff66-43e7e5e3baa7"
      },
      "execution_count": 6,
      "outputs": [
        {
          "output_type": "execute_result",
          "data": {
            "text/plain": [
              "tensor([[0.0000],\n",
              "        [0.0200],\n",
              "        [0.0400],\n",
              "        [0.0600],\n",
              "        [0.0800]])"
            ]
          },
          "metadata": {},
          "execution_count": 6
        }
      ]
    },
    {
      "cell_type": "code",
      "source": [
        "torch.manual_seed(42)\n",
        "epochs = 500\n",
        "for epoch in range(epochs):\n",
        "  model_1.train()\n",
        "\n",
        "  y_pred = model_1(X_train)\n",
        "  loss = loss_fn(y_pred, y_train)\n",
        "\n",
        "  optimizer.zero_grad()\n",
        "  loss.backward()\n",
        "  optimizer.step()\n",
        "\n",
        "  model_1.eval()\n",
        "  with torch.inference_mode():\n",
        "    test_pred = model_1(X_test)\n",
        "    test_loss = loss_fn(test_pred, y_test)\n",
        "\n",
        "  if epoch % 10 == 0:\n",
        "    print(f'Epoch: {epoch}, Loss {loss}, Test loss {test_loss}')"
      ],
      "metadata": {
        "colab": {
          "base_uri": "https://localhost:8080/"
        },
        "id": "AbdsX_XZ_slO",
        "outputId": "9830a041-13d0-486b-ec09-aa9f8473b824"
      },
      "execution_count": 14,
      "outputs": [
        {
          "output_type": "stream",
          "name": "stdout",
          "text": [
            "Epoch: 0, Loss 0.010256484150886536, Test loss 0.012454730458557606\n",
            "Epoch: 10, Loss 0.0006695427000522614, Test loss 0.0014927327865734696\n",
            "Epoch: 20, Loss 0.00032303109765052795, Test loss 0.0006653607124462724\n",
            "Epoch: 30, Loss 0.0005198411527089775, Test loss 0.00040593743324279785\n",
            "Epoch: 40, Loss 0.0005198411527089775, Test loss 0.00040593743324279785\n",
            "Epoch: 50, Loss 0.0005198411527089775, Test loss 0.00040593743324279785\n",
            "Epoch: 60, Loss 0.0005198411527089775, Test loss 0.00040593743324279785\n",
            "Epoch: 70, Loss 0.0005198411527089775, Test loss 0.00040593743324279785\n",
            "Epoch: 80, Loss 0.0005198411527089775, Test loss 0.00040593743324279785\n",
            "Epoch: 90, Loss 0.0005198411527089775, Test loss 0.00040593743324279785\n",
            "Epoch: 100, Loss 0.0005198411527089775, Test loss 0.00040593743324279785\n",
            "Epoch: 110, Loss 0.0005198411527089775, Test loss 0.00040593743324279785\n",
            "Epoch: 120, Loss 0.0005198411527089775, Test loss 0.00040593743324279785\n",
            "Epoch: 130, Loss 0.0005198411527089775, Test loss 0.00040593743324279785\n",
            "Epoch: 140, Loss 0.0005198411527089775, Test loss 0.00040593743324279785\n",
            "Epoch: 150, Loss 0.0005198411527089775, Test loss 0.00040593743324279785\n",
            "Epoch: 160, Loss 0.0005198411527089775, Test loss 0.00040593743324279785\n",
            "Epoch: 170, Loss 0.0005198411527089775, Test loss 0.00040593743324279785\n",
            "Epoch: 180, Loss 0.0005198411527089775, Test loss 0.00040593743324279785\n",
            "Epoch: 190, Loss 0.0005198411527089775, Test loss 0.00040593743324279785\n",
            "Epoch: 200, Loss 0.0005198411527089775, Test loss 0.00040593743324279785\n",
            "Epoch: 210, Loss 0.0005198411527089775, Test loss 0.00040593743324279785\n",
            "Epoch: 220, Loss 0.0005198411527089775, Test loss 0.00040593743324279785\n",
            "Epoch: 230, Loss 0.0005198411527089775, Test loss 0.00040593743324279785\n",
            "Epoch: 240, Loss 0.0005198411527089775, Test loss 0.00040593743324279785\n",
            "Epoch: 250, Loss 0.0005198411527089775, Test loss 0.00040593743324279785\n",
            "Epoch: 260, Loss 0.0005198411527089775, Test loss 0.00040593743324279785\n",
            "Epoch: 270, Loss 0.0005198411527089775, Test loss 0.00040593743324279785\n",
            "Epoch: 280, Loss 0.0005198411527089775, Test loss 0.00040593743324279785\n",
            "Epoch: 290, Loss 0.0005198411527089775, Test loss 0.00040593743324279785\n",
            "Epoch: 300, Loss 0.0005198411527089775, Test loss 0.00040593743324279785\n",
            "Epoch: 310, Loss 0.0005198411527089775, Test loss 0.00040593743324279785\n",
            "Epoch: 320, Loss 0.0005198411527089775, Test loss 0.00040593743324279785\n",
            "Epoch: 330, Loss 0.0005198411527089775, Test loss 0.00040593743324279785\n",
            "Epoch: 340, Loss 0.0005198411527089775, Test loss 0.00040593743324279785\n",
            "Epoch: 350, Loss 0.0005198411527089775, Test loss 0.00040593743324279785\n",
            "Epoch: 360, Loss 0.0005198411527089775, Test loss 0.00040593743324279785\n",
            "Epoch: 370, Loss 0.0005198411527089775, Test loss 0.00040593743324279785\n",
            "Epoch: 380, Loss 0.0005198411527089775, Test loss 0.00040593743324279785\n",
            "Epoch: 390, Loss 0.0005198411527089775, Test loss 0.00040593743324279785\n",
            "Epoch: 400, Loss 0.0005198411527089775, Test loss 0.00040593743324279785\n",
            "Epoch: 410, Loss 0.0005198411527089775, Test loss 0.00040593743324279785\n",
            "Epoch: 420, Loss 0.0005198411527089775, Test loss 0.00040593743324279785\n",
            "Epoch: 430, Loss 0.0005198411527089775, Test loss 0.00040593743324279785\n",
            "Epoch: 440, Loss 0.0005198411527089775, Test loss 0.00040593743324279785\n",
            "Epoch: 450, Loss 0.0005198411527089775, Test loss 0.00040593743324279785\n",
            "Epoch: 460, Loss 0.0005198411527089775, Test loss 0.00040593743324279785\n",
            "Epoch: 470, Loss 0.0005198411527089775, Test loss 0.00040593743324279785\n",
            "Epoch: 480, Loss 0.0005198411527089775, Test loss 0.00040593743324279785\n",
            "Epoch: 490, Loss 0.0005198411527089775, Test loss 0.00040593743324279785\n"
          ]
        }
      ]
    },
    {
      "cell_type": "code",
      "source": [
        "# Use model\n",
        "model_1.eval()\n",
        "\n",
        "# Make predictions on test data\n",
        "with torch.inference_mode():\n",
        "  y_preds = model_1(X_test)\n",
        "\n",
        "\n",
        "plot_predictions(predictions=y_preds)"
      ],
      "metadata": {
        "colab": {
          "base_uri": "https://localhost:8080/",
          "height": 533
        },
        "id": "wFE3IZBoAjvV",
        "outputId": "32b3ddc1-e0b3-4a9d-c679-ac5f00d074d7"
      },
      "execution_count": 15,
      "outputs": [
        {
          "output_type": "display_data",
          "data": {
            "text/plain": [
              "<Figure size 1000x700 with 1 Axes>"
            ],
            "image/png": "[encoded data removed]"
          },
          "metadata": {}
        }
      ]
    },
    {
      "cell_type": "code",
      "source": [
        "from pathlib import Path\n",
        "\n",
        "MODEL_PATH = Path('models')\n",
        "MODEL_PATH.mkdir(parents=True, exist_ok=True)\n",
        "\n",
        "MODEL_NAME = '01_pytorch_workflow_model_1.pth'\n",
        "MODEL_SAVE_PATH = MODEL_PATH / MODEL_NAME\n",
        "\n",
        "torch.save(obj=model_1.state_dict(),\n",
        "           f=MODEL_SAVE_PATH)"
      ],
      "metadata": {
        "id": "Ex_bGsmAE2VU"
      },
      "execution_count": 19,
      "outputs": []
    },
    {
      "cell_type": "code",
      "source": [
        "loaded_model_1 = LinearRegressionModelV2()\n",
        "loaded_model_1.load_state_dict(torch.load(MODEL_SAVE_PATH))\n",
        "loaded_model_1.to(device)"
      ],
      "metadata": {
        "colab": {
          "base_uri": "https://localhost:8080/"
        },
        "id": "omqI-kptGP1n",
        "outputId": "e22b9518-935b-4dc6-dbbf-aa0b9b66a2e0"
      },
      "execution_count": 22,
      "outputs": [
        {
          "output_type": "execute_result",
          "data": {
            "text/plain": [
              "LinearRegressionModelV2(\n",
              "  (linear_layer): Linear(in_features=1, out_features=1, bias=True)\n",
              ")"
            ]
          },
          "metadata": {},
          "execution_count": 22
        }
      ]
    },
    {
      "cell_type": "code",
      "source": [
        "loaded_model_1.eval()\n",
        "with torch.inference_mode():\n",
        "  loaded_model_1_preds = loaded_model_1(X_test)\n",
        "\n",
        "loaded_model_1_preds == y_preds"
      ],
      "metadata": {
        "colab": {
          "base_uri": "https://localhost:8080/"
        },
        "id": "0AQKtzYyMdMn",
        "outputId": "b4501702-f150-41bd-9fb1-ae720c674971"
      },
      "execution_count": 23,
      "outputs": [
        {
          "output_type": "execute_result",
          "data": {
            "text/plain": [
              "tensor([[True],\n",
              "        [True],\n",
              "        [True],\n",
              "        [True],\n",
              "        [True],\n",
              "        [True],\n",
              "        [True],\n",
              "        [True],\n",
              "        [True],\n",
              "        [True]])"
            ]
          },
          "metadata": {},
          "execution_count": 23
        }
      ]
    },
    {
      "cell_type": "code",
      "source": [],
      "metadata": {
        "id": "fqiinfLtMzCg"
      },
      "execution_count": null,
      "outputs": []
    }
  ]
}