{
  "nbformat": 4,
  "nbformat_minor": 0,
  "metadata": {
    "colab": {
      "provenance": [],
      "authorship_tag": "ABX9TyOMSsewTdCd8ZZ5kcPEvZb1",
      "include_colab_link": true
    },
    "kernelspec": {
      "name": "python3",
      "display_name": "Python 3"
    },
    "language_info": {
      "name": "python"
    }
  },
  "cells": [
    {
      "cell_type": "markdown",
      "metadata": {
        "id": "view-in-github",
        "colab_type": "text"
      },
      "source": [
        "<a href=\"https://colab.research.google.com/github/IvannikovG/torch_refreshing/blob/main/pytorch_workflow.ipynb\" target=\"_parent\"><img src=\"https://colab.research.google.com/assets/colab-badge.svg\" alt=\"Open In Colab\"/></a>"
      ]
    },
    {
      "cell_type": "code",
      "execution_count": 62,
      "metadata": {
        "colab": {
          "base_uri": "https://localhost:8080/"
        },
        "id": "akQZqg99jvQM",
        "outputId": "a8967dd0-4188-4871-c980-84cd57e5d85f"
      },
      "outputs": [
        {
          "output_type": "execute_result",
          "data": {
            "text/plain": [
              "{1: 'data (preparing and loading)',\n",
              " 2: 'build model',\n",
              " 3: 'fitting the model to data (training)',\n",
              " 4: 'making predictions and evaluating the model',\n",
              " 5: 'saving and loading a model',\n",
              " 6: 'putting it all together'}"
            ]
          },
          "metadata": {},
          "execution_count": 62
        }
      ],
      "source": [
        "learn_what = {1: 'data (preparing and loading)',\n",
        "              2: 'build model',\n",
        "              3: 'fitting the model to data (training)',\n",
        "              4: 'making predictions and evaluating the model',\n",
        "              5: 'saving and loading a model',\n",
        "              6: 'putting it all together'}\n",
        "\n",
        "learn_what"
      ]
    },
    {
      "cell_type": "code",
      "source": [
        "import torch\n",
        "from torch import nn\n",
        "import matplotlib.pyplot as plt"
      ],
      "metadata": {
        "id": "w-n--gmKkOqY"
      },
      "execution_count": 63,
      "outputs": []
    },
    {
      "cell_type": "code",
      "source": [
        "torch.__version__"
      ],
      "metadata": {
        "colab": {
          "base_uri": "https://localhost:8080/",
          "height": 35
        },
        "id": "psjXe6JZkbPx",
        "outputId": "ad23bb9b-aa7d-4d57-a00c-93840766c48d"
      },
      "execution_count": 64,
      "outputs": [
        {
          "output_type": "execute_result",
          "data": {
            "text/plain": [
              "'2.1.0+cu121'"
            ],
            "application/vnd.google.colaboratory.intrinsic+json": {
              "type": "string"
            }
          },
          "metadata": {},
          "execution_count": 64
        }
      ]
    },
    {
      "cell_type": "code",
      "source": [
        "# DATA. Prepare and load\n",
        "\n",
        "# -> Data can be anything (img, vid, table, sequential data, DNA, text)"
      ],
      "metadata": {
        "id": "OxWefeUVkxDC"
      },
      "execution_count": 65,
      "outputs": []
    },
    {
      "cell_type": "code",
      "source": [
        "# Use linear regression formula to make a straight line with known parameters"
      ],
      "metadata": {
        "id": "sxc3r2lWk6Iz"
      },
      "execution_count": 66,
      "outputs": []
    },
    {
      "cell_type": "code",
      "source": [
        "# Create known parameters\n",
        "weight = 0.7\n",
        "bias = 0.3\n",
        "\n",
        "# Create\n",
        "start = 0\n",
        "end = 1\n",
        "step = 0.02\n",
        "X = torch.arange(start, end, step).unsqueeze(dim=1)\n",
        "y = weight * X + bias\n",
        "\n",
        "y, len(y), len(X)"
      ],
      "metadata": {
        "colab": {
          "base_uri": "https://localhost:8080/"
        },
        "id": "n1NSAt_ql2PJ",
        "outputId": "2798bca3-abe8-4a27-ce99-c3f58dad58bc"
      },
      "execution_count": 99,
      "outputs": [
        {
          "output_type": "execute_result",
          "data": {
            "text/plain": [
              "(tensor([[0.3000],\n",
              "         [0.3140],\n",
              "         [0.3280],\n",
              "         [0.3420],\n",
              "         [0.3560],\n",
              "         [0.3700],\n",
              "         [0.3840],\n",
              "         [0.3980],\n",
              "         [0.4120],\n",
              "         [0.4260],\n",
              "         [0.4400],\n",
              "         [0.4540],\n",
              "         [0.4680],\n",
              "         [0.4820],\n",
              "         [0.4960],\n",
              "         [0.5100],\n",
              "         [0.5240],\n",
              "         [0.5380],\n",
              "         [0.5520],\n",
              "         [0.5660],\n",
              "         [0.5800],\n",
              "         [0.5940],\n",
              "         [0.6080],\n",
              "         [0.6220],\n",
              "         [0.6360],\n",
              "         [0.6500],\n",
              "         [0.6640],\n",
              "         [0.6780],\n",
              "         [0.6920],\n",
              "         [0.7060],\n",
              "         [0.7200],\n",
              "         [0.7340],\n",
              "         [0.7480],\n",
              "         [0.7620],\n",
              "         [0.7760],\n",
              "         [0.7900],\n",
              "         [0.8040],\n",
              "         [0.8180],\n",
              "         [0.8320],\n",
              "         [0.8460],\n",
              "         [0.8600],\n",
              "         [0.8740],\n",
              "         [0.8880],\n",
              "         [0.9020],\n",
              "         [0.9160],\n",
              "         [0.9300],\n",
              "         [0.9440],\n",
              "         [0.9580],\n",
              "         [0.9720],\n",
              "         [0.9860]]),\n",
              " 50,\n",
              " 50)"
            ]
          },
          "metadata": {},
          "execution_count": 99
        }
      ]
    },
    {
      "cell_type": "code",
      "source": [
        "# Splitting data into training and test sets"
      ],
      "metadata": {
        "id": "9tL0Sf7LmRJC"
      },
      "execution_count": 68,
      "outputs": []
    },
    {
      "cell_type": "code",
      "source": [
        "# data in three sets - training(r) (lectures), validation(o) (test exam), test(r) (final exam)\n",
        "\n",
        "# 1. Generalization - ability of the model to perform on real data."
      ],
      "metadata": {
        "id": "MjsV0jgHnQ0A"
      },
      "execution_count": 69,
      "outputs": []
    },
    {
      "cell_type": "code",
      "source": [
        "# create a train/test split"
      ],
      "metadata": {
        "id": "Wa5M7sdBoiK0"
      },
      "execution_count": 70,
      "outputs": []
    },
    {
      "cell_type": "code",
      "source": [
        "train_split = int(0.8 * len(X))\n",
        "# f, l = features, labels\n",
        "X_train, y_train = X[:train_split], y[:train_split]\n",
        "X_test, y_test = X[train_split:], y[train_split:]\n",
        "\n",
        "len(X_train), len(y_train), len(X_test), len(y_test)\n",
        "\n",
        "X_test, X"
      ],
      "metadata": {
        "colab": {
          "base_uri": "https://localhost:8080/"
        },
        "id": "CIo3PqIfpzvY",
        "outputId": "6cfbc3d4-678e-429a-d948-f57f0c93cf50"
      },
      "execution_count": 71,
      "outputs": [
        {
          "output_type": "execute_result",
          "data": {
            "text/plain": [
              "(tensor([0.8000, 0.8200, 0.8400, 0.8600, 0.8800, 0.9000, 0.9200, 0.9400, 0.9600,\n",
              "         0.9800]),\n",
              " tensor([0.0000, 0.0200, 0.0400, 0.0600, 0.0800, 0.1000, 0.1200, 0.1400, 0.1600,\n",
              "         0.1800, 0.2000, 0.2200, 0.2400, 0.2600, 0.2800, 0.3000, 0.3200, 0.3400,\n",
              "         0.3600, 0.3800, 0.4000, 0.4200, 0.4400, 0.4600, 0.4800, 0.5000, 0.5200,\n",
              "         0.5400, 0.5600, 0.5800, 0.6000, 0.6200, 0.6400, 0.6600, 0.6800, 0.7000,\n",
              "         0.7200, 0.7400, 0.7600, 0.7800, 0.8000, 0.8200, 0.8400, 0.8600, 0.8800,\n",
              "         0.9000, 0.9200, 0.9400, 0.9600, 0.9800]))"
            ]
          },
          "metadata": {},
          "execution_count": 71
        }
      ]
    },
    {
      "cell_type": "code",
      "source": [
        "def plot_predictions(train_data=X_train, train_labels=y_train,\n",
        "                     test_data=X_test, test_labels=y_test,\n",
        "                     predictions=None):\n",
        "  '''Plots training data, test data and compares predictions'''\n",
        "\n",
        "  plt.figure(figsize=(10, 7))\n",
        "\n",
        "  # Plot training data is in blue\n",
        "  plt.scatter(train_data, train_labels, c='b', s=4, label='Training data')\n",
        "  # Plot test data in green\n",
        "\n",
        "  plt.scatter(test_data, test_labels, c='g', s=4, label='Testing data')\n",
        "  if predictions is not None:\n",
        "    plt.scatter(test_data, predictions, c='r', s=3, label='Predictions')\n",
        "\n",
        "  plt.legend(prop={\"size\": 14,});\n"
      ],
      "metadata": {
        "id": "jx5urgK5CoqE"
      },
      "execution_count": 72,
      "outputs": []
    },
    {
      "cell_type": "code",
      "source": [
        "plot_predictions()"
      ],
      "metadata": {
        "colab": {
          "base_uri": "https://localhost:8080/",
          "height": 599
        },
        "id": "Zb9Z5WA8G7Dz",
        "outputId": "2f9aeddf-db1f-4f9f-bf0d-6d963021f11c"
      },
      "execution_count": 73,
      "outputs": [
        {
          "output_type": "display_data",
          "data": {
            "text/plain": [
              "<Figure size 1000x700 with 1 Axes>"
            ],
            "image/png": "[encoded data removed]"
          },
          "metadata": {}
        }
      ]
    },
    {
      "cell_type": "code",
      "source": [
        "# Build a model\n",
        "# linear regression model"
      ],
      "metadata": {
        "id": "LfQCBw3xJHQ0"
      },
      "execution_count": 74,
      "outputs": []
    },
    {
      "cell_type": "code",
      "source": [
        "# almost anything is inherited from nn.Module in torch - base class for all nn.Models\n",
        "\n",
        "class LinearRegressionModel(nn.Module):\n",
        "  def __init__(self):\n",
        "    super().__init__()\n",
        "    # parameters in nn, auto assigns weights to .parameters\n",
        "    self.weights = nn.Parameter(torch.randn(1, requires_grad=True, dtype=torch.float))\n",
        "    self.bias = nn.Parameter(torch.randn(1, requires_grad=True, dtype=torch.float))\n",
        "\n",
        "    # Forward method to define computation in the model\n",
        "  def forward(self, x: torch.Tensor) -> torch.Tensor:\n",
        "    return self.weights * x + self.bias # this is the linear regression formula\n",
        "\n",
        "\n",
        "# Start with random w and b, look at training data and adjust\n",
        "# the random values to better represent the ideal values (the weights and the bias we used to create data)\n",
        "\n",
        "# 2 main things - gradient descent and back propagation"
      ],
      "metadata": {
        "id": "CgLT1NVOJ0Kj"
      },
      "execution_count": 75,
      "outputs": []
    },
    {
      "cell_type": "code",
      "source": [
        "import numpy as np\n",
        "weights = np.array([0.5,0.48,-0.7])\n",
        "alpha = 0.1\n",
        "streetlights = np.array([[ 1, 0, 1 ],\n",
        "                         [ 0, 1, 1 ],\n",
        "                         [ 0, 0, 1 ],\n",
        "                         [ 1, 1, 1 ],\n",
        "                         [ 0, 1, 1 ],\n",
        "                         [1, 0, 1]])\n",
        "\n",
        "walk_vs_stop = np.array([0, 1, 0, 1, 1, 0])\n",
        "input = streetlights[0]\n",
        "goal_prediction = walk_vs_stop[0]\n",
        "\n",
        "for iteration in range(10):\n",
        "  error_for_all_lights = 0\n",
        "  for row_index in range(len(streetlights)):\n",
        "    input = streetlights[row_index]\n",
        "    goal_prediction = walk_vs_stop[row_index]\n",
        "    prediction = input.dot(weights)\n",
        "    error = (goal_prediction - prediction) ** 2\n",
        "    error_for_all_lights += error\n",
        "    delta = prediction - goal_prediction\n",
        "    weights = weights - (alpha * (input * delta))\n",
        "    print(\"Prediction:\" + str(prediction))\n",
        "  print(\"Error:\" + str(error_for_all_lights) + \"\\n\")\n",
        "\n",
        "print(weights)"
      ],
      "metadata": {
        "colab": {
          "base_uri": "https://localhost:8080/"
        },
        "id": "8uv1PpuGLNT9",
        "outputId": "8643c84b-6061-4813-dab5-ae43d2600eaa"
      },
      "execution_count": 76,
      "outputs": [
        {
          "output_type": "stream",
          "name": "stdout",
          "text": [
            "Prediction:-0.19999999999999996\n",
            "Prediction:-0.19999999999999996\n",
            "Prediction:-0.5599999999999999\n",
            "Prediction:0.6160000000000001\n",
            "Prediction:0.17279999999999995\n",
            "Prediction:0.17552\n",
            "Error:2.6561231104\n",
            "\n",
            "Prediction:0.14041599999999999\n",
            "Prediction:0.3066464\n",
            "Prediction:-0.34513824\n",
            "Prediction:1.006637344\n",
            "Prediction:0.4785034751999999\n",
            "Prediction:0.26700416768\n",
            "Error:0.9628701776715985\n",
            "\n",
            "Prediction:0.213603334144\n",
            "Prediction:0.5347420299776\n",
            "Prediction:-0.26067345110016\n",
            "Prediction:1.1319428845096962\n",
            "Prediction:0.6274723921901568\n",
            "Prediction:0.25433999330650114\n",
            "Error:0.5509165866836797\n",
            "\n",
            "Prediction:0.20347199464520088\n",
            "Prediction:0.6561967149569552\n",
            "Prediction:-0.221948503950995\n",
            "Prediction:1.166258650532124\n",
            "Prediction:0.7139004922542389\n",
            "Prediction:0.21471099528371604\n",
            "Error:0.36445836852222424\n",
            "\n",
            "Prediction:0.17176879622697283\n",
            "Prediction:0.7324724146523222\n",
            "Prediction:-0.19966478845083285\n",
            "Prediction:1.1697769945341199\n",
            "Prediction:0.7719890116601171\n",
            "Prediction:0.17297997428859369\n",
            "Error:0.2516768662079895\n",
            "\n",
            "Prediction:0.13838397943087496\n",
            "Prediction:0.7864548139561468\n",
            "Prediction:-0.1836567869927348\n",
            "Prediction:1.163248019006011\n",
            "Prediction:0.8148799260629888\n",
            "Prediction:0.1362897844408577\n",
            "Error:0.17797575048089034\n",
            "\n",
            "Prediction:0.10903182755268614\n",
            "Prediction:0.8273717796510367\n",
            "Prediction:-0.17037324196481937\n",
            "Prediction:1.1537962739591756\n",
            "Prediction:0.8481754931254761\n",
            "Prediction:0.1059488041691444\n",
            "Error:0.12864460733422164\n",
            "\n",
            "Prediction:0.0847590433353155\n",
            "Prediction:0.859469609749935\n",
            "Prediction:-0.1585508402022421\n",
            "Prediction:1.1438418857156731\n",
            "Prediction:0.8746623946770374\n",
            "Prediction:0.08148074110264475\n",
            "Error:0.09511036950476208\n",
            "\n",
            "Prediction:0.06518459288211581\n",
            "Prediction:0.8850633823431538\n",
            "Prediction:-0.14771905585408038\n",
            "Prediction:1.1341830033853888\n",
            "Prediction:0.8959860107828534\n",
            "Prediction:0.0619780399014222\n",
            "Error:0.07194564247043436\n",
            "\n",
            "Prediction:0.04958243192113776\n",
            "Prediction:0.9056327614440267\n",
            "Prediction:-0.13768337501215525\n",
            "Prediction:1.1250605910610996\n",
            "Prediction:0.9132624284442169\n",
            "Prediction:0.04653264583708144\n",
            "Error:0.05564914990717743\n",
            "\n",
            "[ 0.16962672  1.05835728 -0.1324006 ]\n"
          ]
        }
      ]
    },
    {
      "cell_type": "code",
      "source": [],
      "metadata": {
        "id": "eRoxZkuqDg_N"
      },
      "execution_count": 76,
      "outputs": []
    },
    {
      "cell_type": "code",
      "source": [
        "def matmul(x, y):\n",
        "  assert(len(x) == len(y))\n",
        "  a = 0\n",
        "  for i in range(len(x)):\n",
        "    a += x[i] * y[i]\n",
        "  return a\n",
        "\n",
        "def matrix_matmul(v, matrix):\n",
        "  acc = []\n",
        "  for i in range(len(matrix)):\n",
        "    acc.append(matmul(v, matrix[i]))\n",
        "  return acc\n",
        "\n",
        "def neural_net(input, weights):\n",
        "  return matrix_matmul(input, weights)\n",
        "\n",
        "\n"
      ],
      "metadata": {
        "id": "yaS9_om9Gby0"
      },
      "execution_count": 77,
      "outputs": []
    },
    {
      "cell_type": "code",
      "source": [
        "neural_net([1, 0, 1], [[0.1, 0.82, 0.08], [0.1, 0.02, -0.1], [0.5, 0.2, -0.51]])"
      ],
      "metadata": {
        "colab": {
          "base_uri": "https://localhost:8080/"
        },
        "id": "W15kMdTtX1nC",
        "outputId": "0e09e674-a33d-4111-eb08-91ae0f5a61e0"
      },
      "execution_count": 78,
      "outputs": [
        {
          "output_type": "execute_result",
          "data": {
            "text/plain": [
              "[0.18, 0.0, -0.010000000000000009]"
            ]
          },
          "metadata": {},
          "execution_count": 78
        }
      ]
    },
    {
      "cell_type": "code",
      "source": [
        "# Create random seed\n",
        "\n",
        "torch.manual_seed(42)\n",
        "\n",
        "model_0 = LinearRegressionModel()\n",
        "list(model_0.parameters())"
      ],
      "metadata": {
        "colab": {
          "base_uri": "https://localhost:8080/"
        },
        "id": "w7oIC9QZDjau",
        "outputId": "f0700962-0e4f-4ddb-b301-94d005e44f0e"
      },
      "execution_count": 79,
      "outputs": [
        {
          "output_type": "execute_result",
          "data": {
            "text/plain": [
              "[Parameter containing:\n",
              " tensor([0.3367], requires_grad=True),\n",
              " Parameter containing:\n",
              " tensor([0.1288], requires_grad=True)]"
            ]
          },
          "metadata": {},
          "execution_count": 79
        }
      ]
    },
    {
      "cell_type": "code",
      "source": [
        "model_0.state_dict()"
      ],
      "metadata": {
        "colab": {
          "base_uri": "https://localhost:8080/"
        },
        "id": "qQdbcqKrDtEX",
        "outputId": "1589dc71-454d-4f50-f950-cfa8df2cf6d1"
      },
      "execution_count": 80,
      "outputs": [
        {
          "output_type": "execute_result",
          "data": {
            "text/plain": [
              "OrderedDict([('weights', tensor([0.3367])), ('bias', tensor([0.1288]))])"
            ]
          },
          "metadata": {},
          "execution_count": 80
        }
      ]
    },
    {
      "cell_type": "code",
      "source": [
        "with torch.inference_mode():\n",
        "  y_preds = model_0(X_test)\n",
        "\n",
        "y_preds"
      ],
      "metadata": {
        "colab": {
          "base_uri": "https://localhost:8080/"
        },
        "id": "s9Xikf6-E3Jd",
        "outputId": "f2cfcd61-04dd-4697-e863-b498c47121f5"
      },
      "execution_count": 81,
      "outputs": [
        {
          "output_type": "execute_result",
          "data": {
            "text/plain": [
              "tensor([0.3982, 0.4049, 0.4116, 0.4184, 0.4251, 0.4318, 0.4386, 0.4453, 0.4520,\n",
              "        0.4588])"
            ]
          },
          "metadata": {},
          "execution_count": 81
        }
      ]
    },
    {
      "cell_type": "code",
      "source": [
        "plot_predictions(predictions=y_preds)"
      ],
      "metadata": {
        "colab": {
          "base_uri": "https://localhost:8080/",
          "height": 599
        },
        "id": "MfKeCvekHDyy",
        "outputId": "796b8754-c49e-453a-ab77-aca0ea3a3a87"
      },
      "execution_count": 103,
      "outputs": [
        {
          "output_type": "display_data",
          "data": {
            "text/plain": [
              "<Figure size 1000x700 with 1 Axes>"
            ],
            "image/png": "[encoded data removed]"
          },
          "metadata": {}
        }
      ]
    },
    {
      "cell_type": "code",
      "source": [
        "# loss function\n",
        "\n",
        "loss_fn = nn.L1Loss() # MSE\n",
        "\n",
        "# setup optimizer\n",
        "optimizer = torch.optim.SGD(params=model_0.parameters(),\n",
        "                            lr=0.05)\n",
        "\n",
        "# building a training loop\n",
        "epochs = 1 # one full loop through the data\n",
        "\n",
        "for epoch in range(epochs):\n",
        "  model_0.train() # train mode in PyTorch sets all parameters that require gradient to have a gradient\n",
        "  model_0.eval() # turns off gradient tracking\n",
        "\n",
        "  if (epoch % 10 == 0):\n",
        "    print(epoch)\n",
        "\n",
        "\n"
      ],
      "metadata": {
        "colab": {
          "base_uri": "https://localhost:8080/"
        },
        "id": "dlcKQe0RH9e7",
        "outputId": "4a0ec0f7-e5bc-4142-d5d8-0bdebd3b6fda"
      },
      "execution_count": 83,
      "outputs": [
        {
          "output_type": "stream",
          "name": "stdout",
          "text": [
            "0\n"
          ]
        }
      ]
    },
    {
      "cell_type": "code",
      "source": [
        "import torch\n",
        "import torch.nn as nn\n",
        "import torch.optim as optim\n",
        "\n",
        "# Define some training data\n",
        "# X = torch.tensor([[1.0, 1.0], [2.0, 2.0], [3.0, 3.0], [4.0, 4.0]])\n",
        "# y = torch.tensor([[2.0, 2.0], [4.0, 4.0], [6.0, 6.0], [8.0, 8.0]])\n",
        "\n",
        "X = torch.tensor([[1.0], [2.0], [3.0], [4.0]])\n",
        "y = torch.tensor([[2.0], [4.0], [6.0], [8.0]])\n",
        "\n",
        "def reset_model_parameters(model):\n",
        "    for param in model.parameters():\n",
        "        nn.init.normal_(param.data, mean=0, std=0.01)\n",
        "\n",
        "# Example usage:\n",
        "# Assuming you have a model named 'model'\n",
        "\n",
        "# Define a simple linear regression model\n",
        "class LinearRegression(nn.Module):\n",
        "    def __init__(self):\n",
        "        super(LinearRegression, self).__init__()\n",
        "        # self.linear = nn.Linear(2, 2)  # Input size: 2, Output size: 2\n",
        "        # self.linear = nn.Linear(2, 1)  # Input size: 2, Output size: 1\n",
        "        self.linear = nn.Linear(1, 1)\n",
        "\n",
        "    def forward(self, x):\n",
        "        return self.linear(x)\n",
        "\n",
        "# Instantiate the model\n",
        "model = LinearRegression()\n",
        "reset_model_parameters(model)\n",
        "\n",
        "# Define a loss function (mean squared error)\n",
        "loss_function = nn.MSELoss()\n",
        "\n",
        "# Define an optimizer (stochastic gradient descent)\n",
        "optimizer = optim.SGD(model.parameters(), lr=0.01)\n",
        "\n",
        "# Training loop\n",
        "num_epochs = 500\n",
        "for epoch in range(num_epochs):\n",
        "    # Forward pass\n",
        "    predictions = model(X)\n",
        "\n",
        "    # Compute the loss\n",
        "    loss = loss_function(predictions, y)\n",
        "\n",
        "    # Zero gradients, perform a backward pass, and update the weights\n",
        "    optimizer.zero_grad()\n",
        "    loss.backward()\n",
        "    optimizer.step()\n",
        "\n",
        "    # Print the loss every few epochs\n",
        "    if (epoch+1) % 10 == 0:\n",
        "        print(f'Epoch [{epoch+1}/{num_epochs}], Loss: {loss.item():.4f}')\n",
        "\n",
        "\n",
        "# Print the trained parameters\n",
        "print('Trained parameters:')\n",
        "for name, param in model.named_parameters():\n",
        "    print(name, param.data)"
      ],
      "metadata": {
        "colab": {
          "base_uri": "https://localhost:8080/"
        },
        "id": "wZ1EEWIYr-Zx",
        "outputId": "d2fd9408-ba74-408b-a496-6ee9127d4526"
      },
      "execution_count": 100,
      "outputs": [
        {
          "output_type": "stream",
          "name": "stdout",
          "text": [
            "Epoch [10/500], Loss: 1.1696\n",
            "Epoch [20/500], Loss: 0.0846\n",
            "Epoch [30/500], Loss: 0.0534\n",
            "Epoch [40/500], Loss: 0.0496\n",
            "Epoch [50/500], Loss: 0.0467\n",
            "Epoch [60/500], Loss: 0.0440\n",
            "Epoch [70/500], Loss: 0.0414\n",
            "Epoch [80/500], Loss: 0.0390\n",
            "Epoch [90/500], Loss: 0.0367\n",
            "Epoch [100/500], Loss: 0.0346\n",
            "Epoch [110/500], Loss: 0.0326\n",
            "Epoch [120/500], Loss: 0.0307\n",
            "Epoch [130/500], Loss: 0.0289\n",
            "Epoch [140/500], Loss: 0.0272\n",
            "Epoch [150/500], Loss: 0.0256\n",
            "Epoch [160/500], Loss: 0.0241\n",
            "Epoch [170/500], Loss: 0.0227\n",
            "Epoch [180/500], Loss: 0.0214\n",
            "Epoch [190/500], Loss: 0.0202\n",
            "Epoch [200/500], Loss: 0.0190\n",
            "Epoch [210/500], Loss: 0.0179\n",
            "Epoch [220/500], Loss: 0.0168\n",
            "Epoch [230/500], Loss: 0.0159\n",
            "Epoch [240/500], Loss: 0.0149\n",
            "Epoch [250/500], Loss: 0.0141\n",
            "Epoch [260/500], Loss: 0.0133\n",
            "Epoch [270/500], Loss: 0.0125\n",
            "Epoch [280/500], Loss: 0.0118\n",
            "Epoch [290/500], Loss: 0.0111\n",
            "Epoch [300/500], Loss: 0.0104\n",
            "Epoch [310/500], Loss: 0.0098\n",
            "Epoch [320/500], Loss: 0.0092\n",
            "Epoch [330/500], Loss: 0.0087\n",
            "Epoch [340/500], Loss: 0.0082\n",
            "Epoch [350/500], Loss: 0.0077\n",
            "Epoch [360/500], Loss: 0.0073\n",
            "Epoch [370/500], Loss: 0.0069\n",
            "Epoch [380/500], Loss: 0.0065\n",
            "Epoch [390/500], Loss: 0.0061\n",
            "Epoch [400/500], Loss: 0.0057\n",
            "Epoch [410/500], Loss: 0.0054\n",
            "Epoch [420/500], Loss: 0.0051\n",
            "Epoch [430/500], Loss: 0.0048\n",
            "Epoch [440/500], Loss: 0.0045\n",
            "Epoch [450/500], Loss: 0.0042\n",
            "Epoch [460/500], Loss: 0.0040\n",
            "Epoch [470/500], Loss: 0.0038\n",
            "Epoch [480/500], Loss: 0.0035\n",
            "Epoch [490/500], Loss: 0.0033\n",
            "Epoch [500/500], Loss: 0.0031\n",
            "Trained parameters:\n",
            "linear.weight tensor([[1.9535]])\n",
            "linear.bias tensor([0.1368])\n"
          ]
        }
      ]
    },
    {
      "cell_type": "code",
      "source": [
        "class LinearRegressionModel(nn.Module): # <- almost everything in PyTorch is a nn.Module (think of this as neural network lego blocks)\n",
        "    def __init__(self):\n",
        "        super().__init__()\n",
        "        self.weights = nn.Parameter(torch.randn(1, # <- start with random weights (this will get adjusted as the model learns)\n",
        "                                                dtype=torch.float), # <- PyTorch loves float32 by default\n",
        "                                   requires_grad=True) # <- can we update this value with gradient descent?)\n",
        "\n",
        "        self.bias = nn.Parameter(torch.randn(1, # <- start with random bias (this will get adjusted as the model learns)\n",
        "                                            dtype=torch.float), # <- PyTorch loves float32 by default\n",
        "                                requires_grad=True) # <- can we update this value with gradient descent?))\n",
        "\n",
        "    # Forward defines the computation in the model\n",
        "    def forward(self, x: torch.Tensor) -> torch.Tensor: # <- \"x\" is the input data (e.g. training/testing features)\n",
        "        return self.weights * x + self.bias # <- this is the linear regression formula (y = m*x + b)\n",
        "\n",
        "\n",
        "\n",
        "# Instantiate the model\n",
        "model_0 = LinearRegressionModel()\n",
        "reset_model_parameters(model)\n",
        "\n",
        "# Define a loss function (mean squared error)\n",
        "loss_function = nn.MSELoss()\n",
        "\n",
        "# Define an optimizer (stochastic gradient descent)\n",
        "optimizer = optim.SGD(model.parameters(), lr=0.01)\n",
        "\n",
        "# Training loop\n",
        "num_epochs = 500\n",
        "for epoch in range(num_epochs):\n",
        "    # Forward pass\n",
        "    model_0.train()\n",
        "    predictions = model(X_train)\n",
        "\n",
        "    # Compute the loss\n",
        "    loss = loss_function(predictions, y)\n",
        "\n",
        "    # Zero gradients, perform a backward pass, and update the weights\n",
        "    optimizer.zero_grad()\n",
        "    loss.backward()\n",
        "    optimizer.step()\n",
        "\n",
        "    # Print the loss every few epochs\n",
        "    if (epoch+1) % 10 == 0:\n",
        "        print(f'Epoch [{epoch+1}/{num_epochs}], Loss: {loss.item():.4f}')\n",
        "\n",
        "\n",
        "# Print the trained parameters\n",
        "print('Trained parameters:')\n",
        "for name, param in model.named_parameters():\n",
        "    print(name, param.data)"
      ],
      "metadata": {
        "colab": {
          "base_uri": "https://localhost:8080/"
        },
        "id": "L7xxATTILbCd",
        "outputId": "f2f181c0-f965-4ba5-8f7a-c9cfa302b3e0"
      },
      "execution_count": 115,
      "outputs": [
        {
          "output_type": "stream",
          "name": "stderr",
          "text": [
            "/usr/local/lib/python3.10/dist-packages/torch/nn/modules/loss.py:535: UserWarning: Using a target size (torch.Size([4, 1])) that is different to the input size (torch.Size([40])). This will likely lead to incorrect results due to broadcasting. Please ensure they have the same size.\n",
            "  return F.mse_loss(input, target, reduction=self.reduction)\n"
          ]
        },
        {
          "output_type": "stream",
          "name": "stdout",
          "text": [
            "Epoch [10/500], Loss: 21.3888\n",
            "Epoch [20/500], Loss: 15.3087\n",
            "Epoch [30/500], Loss: 11.5046\n",
            "Epoch [40/500], Loss: 9.1242\n",
            "Epoch [50/500], Loss: 7.6343\n",
            "Epoch [60/500], Loss: 6.7014\n",
            "Epoch [70/500], Loss: 6.1169\n",
            "Epoch [80/500], Loss: 5.7503\n",
            "Epoch [90/500], Loss: 5.5201\n",
            "Epoch [100/500], Loss: 5.3752\n",
            "Epoch [110/500], Loss: 5.2836\n",
            "Epoch [120/500], Loss: 5.2255\n",
            "Epoch [130/500], Loss: 5.1882\n",
            "Epoch [140/500], Loss: 5.1641\n",
            "Epoch [150/500], Loss: 5.1481\n",
            "Epoch [160/500], Loss: 5.1373\n",
            "Epoch [170/500], Loss: 5.1297\n",
            "Epoch [180/500], Loss: 5.1242\n",
            "Epoch [190/500], Loss: 5.1199\n",
            "Epoch [200/500], Loss: 5.1165\n",
            "Epoch [210/500], Loss: 5.1136\n",
            "Epoch [220/500], Loss: 5.1110\n",
            "Epoch [230/500], Loss: 5.1087\n",
            "Epoch [240/500], Loss: 5.1065\n",
            "Epoch [250/500], Loss: 5.1045\n",
            "Epoch [260/500], Loss: 5.1025\n",
            "Epoch [270/500], Loss: 5.1006\n",
            "Epoch [280/500], Loss: 5.0987\n",
            "Epoch [290/500], Loss: 5.0969\n",
            "Epoch [300/500], Loss: 5.0951\n",
            "Epoch [310/500], Loss: 5.0934\n",
            "Epoch [320/500], Loss: 5.0917\n",
            "Epoch [330/500], Loss: 5.0900\n",
            "Epoch [340/500], Loss: 5.0884\n",
            "Epoch [350/500], Loss: 5.0868\n",
            "Epoch [360/500], Loss: 5.0852\n",
            "Epoch [370/500], Loss: 5.0836\n",
            "Epoch [380/500], Loss: 5.0821\n",
            "Epoch [390/500], Loss: 5.0806\n",
            "Epoch [400/500], Loss: 5.0791\n",
            "Epoch [410/500], Loss: 5.0777\n",
            "Epoch [420/500], Loss: 5.0763\n",
            "Epoch [430/500], Loss: 5.0749\n",
            "Epoch [440/500], Loss: 5.0735\n",
            "Epoch [450/500], Loss: 5.0722\n",
            "Epoch [460/500], Loss: 5.0709\n",
            "Epoch [470/500], Loss: 5.0696\n",
            "Epoch [480/500], Loss: 5.0683\n",
            "Epoch [490/500], Loss: 5.0671\n",
            "Epoch [500/500], Loss: 5.0658\n",
            "Trained parameters:\n",
            "weights tensor([1.1067])\n",
            "bias tensor([4.5476])\n"
          ]
        }
      ]
    },
    {
      "cell_type": "code",
      "source": [
        "# Testing loop"
      ],
      "metadata": {
        "id": "lJ1-7YLr_wwg"
      },
      "execution_count": 85,
      "outputs": []
    },
    {
      "cell_type": "code",
      "source": [
        "X, X_test"
      ],
      "metadata": {
        "colab": {
          "base_uri": "https://localhost:8080/"
        },
        "id": "mX0C179ODxQ3",
        "outputId": "4fe2b9e3-a6e4-48e9-f4ed-69f81b32f9fc"
      },
      "execution_count": 86,
      "outputs": [
        {
          "output_type": "execute_result",
          "data": {
            "text/plain": [
              "(tensor([[1.],\n",
              "         [2.],\n",
              "         [3.],\n",
              "         [4.]]),\n",
              " tensor([0.8000, 0.8200, 0.8400, 0.8600, 0.8800, 0.9000, 0.9200, 0.9400, 0.9600,\n",
              "         0.9800]))"
            ]
          },
          "metadata": {},
          "execution_count": 86
        }
      ]
    },
    {
      "cell_type": "code",
      "source": [
        "with torch.inference_mode():\n",
        "  y_preds_new = model_0(torch.tensor([1]))\n",
        "  test_loss = loss_fn(y_preds_new, y_test)\n",
        "  print(f'{test_loss}, {y_preds_new}')"
      ],
      "metadata": {
        "colab": {
          "base_uri": "https://localhost:8080/"
        },
        "id": "QsyVx2ae3lo_",
        "outputId": "3d3265e8-6803-429e-bdb2-586cb7b157f2"
      },
      "execution_count": 121,
      "outputs": [
        {
          "output_type": "stream",
          "name": "stdout",
          "text": [
            "1.9026552438735962, tensor([2.8257])\n"
          ]
        },
        {
          "output_type": "stream",
          "name": "stderr",
          "text": [
            "/usr/local/lib/python3.10/dist-packages/torch/nn/modules/loss.py:101: UserWarning: Using a target size (torch.Size([10])) that is different to the input size (torch.Size([1])). This will likely lead to incorrect results due to broadcasting. Please ensure they have the same size.\n",
            "  return F.l1_loss(input, target, reduction=self.reduction)\n"
          ]
        }
      ]
    },
    {
      "cell_type": "code",
      "source": [
        "X_test"
      ],
      "metadata": {
        "colab": {
          "base_uri": "https://localhost:8080/"
        },
        "id": "AlgEDDmINNC2",
        "outputId": "5424273e-9640-406f-eca5-d67fc0f1efb4"
      },
      "execution_count": 118,
      "outputs": [
        {
          "output_type": "execute_result",
          "data": {
            "text/plain": [
              "tensor([0.8000, 0.8200, 0.8400, 0.8600, 0.8800, 0.9000, 0.9200, 0.9400, 0.9600,\n",
              "        0.9800])"
            ]
          },
          "metadata": {},
          "execution_count": 118
        }
      ]
    },
    {
      "cell_type": "code",
      "source": [
        "plot_predictions(predictions=y_preds_new)"
      ],
      "metadata": {
        "colab": {
          "base_uri": "https://localhost:8080/",
          "height": 599
        },
        "id": "wF-VZ6v68uy9",
        "outputId": "97fa5c22-d8b4-4480-84f4-1ddde79c6a5b"
      },
      "execution_count": 120,
      "outputs": [
        {
          "output_type": "display_data",
          "data": {
            "text/plain": [
              "<Figure size 1000x700 with 1 Axes>"
            ],
            "image/png": "[encoded data removed]"
          },
          "metadata": {}
        }
      ]
    },
    {
      "cell_type": "code",
      "source": [
        "epochs = 1\n",
        "\n",
        "for epoch in range(epochs):\n",
        "\n",
        "  # 1. get predictions\n",
        "  predictions = model_0(X_train)\n",
        "  # 2. calculate error (loss)\n",
        "  loss = loss_fn(predictions, y_train)\n",
        "  # 3. optmizer drop grad, not to accumulate optimizer changes\n",
        "  optimizer.zero_grad()\n",
        "  # 4. perform backpropagation\n",
        "  loss.backward()\n",
        "  # 5. step the optimizer to update weights\n",
        "  optimizer.step()"
      ],
      "metadata": {
        "id": "6QIM2XA0wpvk"
      },
      "execution_count": null,
      "outputs": []
    },
    {
      "cell_type": "code",
      "source": [],
      "metadata": {
        "id": "4SciWZg18tXl"
      },
      "execution_count": null,
      "outputs": []
    }
  ]
}